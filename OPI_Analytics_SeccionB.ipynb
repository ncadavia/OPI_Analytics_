{
  "nbformat": 4,
  "nbformat_minor": 0,
  "metadata": {
    "colab": {
      "name": "OPI_Analytics_SeccionB.ipynb",
      "provenance": [],
      "collapsed_sections": [],
      "authorship_tag": "ABX9TyPIoJBzer+DkKJdW0UthYlf",
      "include_colab_link": true
    },
    "kernelspec": {
      "name": "python3",
      "display_name": "Python 3"
    },
    "language_info": {
      "name": "python"
    }
  },
  "cells": [
    {
      "cell_type": "markdown",
      "metadata": {
        "id": "view-in-github",
        "colab_type": "text"
      },
      "source": [
        "<a href=\"https://colab.research.google.com/github/ncadavia/OPI_Analytics_/blob/main/OPI_Analytics_SeccionB.ipynb\" target=\"_parent\"><img src=\"https://colab.research.google.com/assets/colab-badge.svg\" alt=\"Open In Colab\"/></a>"
      ]
    },
    {
      "cell_type": "markdown",
      "source": [
        "# <center> Sección B </center>"
      ],
      "metadata": {
        "id": "nU7f8jktTKZU"
      }
    },
    {
      "cell_type": "markdown",
      "source": [
        "<u>**Primera proximación:**</u>\n",
        "\n",
        "Si entendemos por **demanda** de paletas para una máquina expendedora dada, la cantidad de paletas que se venden en un determinado período de tiempo. Inicialmente, haría un análisis exploratorio de datos con el objetivo de detectar patrones por **cada una** de las máquinas expendedoras. A continuación, dependiendo del tipo de demanda que encuentre para cada expendedora entraría a evaluar que posible sistema de renovación de inventarios aplicar. \n",
        "\n",
        "Ahora, la cantidad de paletas demandadas está determinada por factores controlables o no, por La Michoacana. Dichos factores determinan el comportamiento o patrón de demanda en el tiempo, por lo tanto, es importante determinar con los datos de Luis, para cada una de las máquinas, si:\n",
        "\n",
        "**1.** **La demanda de paletas es constante**: en número de paletas vendidas tienen un comportamiento estable a lo largo del tiempo:\n",
        "\n",
        "Si estuviéramos en un caso de estos, podríamos intentar responder cuándo surtir y cuánto surtir usando la teoría del *lote económico de compra*, la cual nos proporciona la siguiente relación\n",
        "\n",
        "$$ CT = CO + CE,$$\n",
        "\n",
        "donde:\n",
        "* $CT$: costo total,\n",
        "* $CO$: costo de transporte (100) y\n",
        "* $CE$: costo de energía necesaria para mantener las paletas\n",
        "\n",
        "\n",
        "Si consideramos las siguientes variables:\n",
        "* $D$: demanda total anual,\n",
        "* $CO$: costo de transporte,\n",
        "* $i$: costo anual de mantener paletas y\n",
        "* $q$: cantidad a surtir\n",
        "\n",
        "El costo total de compra puede también quedar expresado de la siguiente manera:\n",
        "$$CT = D + (D/q) * CO + i * q/2$$\n",
        "\n",
        "El costo total toma el menor valor cuando  consideramos la derivada $d(CT)/dq = 0$, esto es, para el siguiente valor de $q$:\n",
        "\n",
        "$$q* = \\sqrt{2 * D* CO/ i},$$\n",
        "en otras palabras, $q*$ nos indica aquella cantidad que hace mínima la suma de los costos de transporte y de energía.\n",
        "\n",
        "Por otro lado, el mismo modelo nos sugiere que el mejor momento para surtir es cuando el nivel de stock sea igual al punto de reorden ($R$), definido como\n",
        "$$R = (\\mbox{demanda promedio}) * (\\mbox{tiempo de transporte})$$\n",
        "Sin embargo, para nuestro caso, el tiempo de transporte es el mismo día, por lo que lo consideramos como $1$.\n",
        "Es decir el mejor momento para pedir es cuando el stock es igual a la demanda promedio.\n",
        "\n",
        "\n",
        "\n",
        "\n",
        "**2.** **La demanda de paletas es aleatoria (sin tendencias ni estacionalidades):** \n",
        "\n",
        "\n",
        "\n",
        "Aquí, con $\\mu$, la demanda promedio de paletas,\n",
        "\n",
        "$$\\mu = \\frac{\\sum_{i=1}^{n}x_i}{n}: \\mbox{media aritmética de los datos de la demanda}$$\n",
        "y $s$, la distancia media entre los datos y la demanda promedio de paletas,\n",
        "\n",
        "$$s = \\sqrt{\\frac{\\sum\\left(x_i - \\mu\\right)^2}{n-1}}: \\mbox{desviación estándar}.$$\n",
        "\n",
        "Si estuviéramos en un caso de estos, podríamos intentar responder cuándo surtir y cuánto surtir usando la *lógica de nivel objetivo* o *sistema de revisión periódica* o *sistema P*. Esto dado que se realiza una revisión de las paletas disponibles diariamente ($T$).  Con este sistema se surten paletas por la\n",
        "diferencia entre un máximo $M$ y la cantidad $q$ en stock al momento de la revisión.\n",
        "\n",
        "\n",
        "\n",
        "\n",
        "\n",
        "\n",
        "**3.** **La demanda de paletas es aleatoria (con tendencias y estacionalidad):** \n",
        "\n",
        "Ahora, cuando la demanda de paletas en una máquina dada sigue un patrón estacional significativo, la literatura reporta que, el *lote económico de compra* no siempre proporcionará la solución óptima y en ocasiones puede conducir a aumentar costos, por lo cual es recomendado hacer ajustes a $q*$ en términos de la demanda. \n",
        "\n",
        "\n",
        "\n",
        "\n",
        "\n",
        "\n",
        "\n",
        "Una vez definidos el tipo de renovación de inventarios a aplicar, otras consideraciones deben ser tomadas con el ánimo de reducir costos:\n",
        "\n",
        "Por ejemplo, si la capacidad de las máquina que voy a surtir es inferior a 100, ¿me conviene más surtir al tope de la capacidad de esta?\n"
      ],
      "metadata": {
        "id": "7b28DWaSFtVl"
      }
    },
    {
      "cell_type": "markdown",
      "source": [
        "<u> **Segunda aproximación:**</u>\n",
        "Con los datos históricos estudiar para cada máquina expendedora la estacionalidad de los datos (esto dado que uno esperaría mayor demanda de helados en meses calurosos). Luego implementaría modelos de pronóstico para la demanda de paletas, por ejemplo un modelo SARIMA,  basándome en esos pronósticos, definiría una función de costo y la optimizaría. "
      ],
      "metadata": {
        "id": "tef_VUVG89kr"
      }
    },
    {
      "cell_type": "markdown",
      "source": [
        "<u>**Tercera aproximación:**</u>\n",
        "Por cada máquina expendedora crearía un modelo siguiendo los siguientes pasos: \n",
        "\n",
        "**1.**   Definir con los datos históricos un umbral de disponibilidad promedio de paletas. Cuando la disponibilidad en un registro sea $0$, cambiar tal valor por el número de paletas retiradas.\n",
        "**2.**   Como en principio, para cada máquina se tiene un DataFrame desde el día $1$ en que se instaló la máquina expendedora, este debe lucir así:\n",
        "\n",
        "![image.png](data:image/png;base64,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)\n",
        "\n",
        "Por lo tanto, es posible determinar cuántas paletas fueron surtidas por día\n",
        "\n",
        "![image.png](data:image/png;base64,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)\n"
      ],
      "metadata": {
        "id": "7MHHDrIWIXpL"
      }
    },
    {
      "cell_type": "markdown",
      "source": [
        "Considerando el DataFrame en la columna `pal_surtidas`, podemos entonces definir un pipeline que consista de (i) una regresión que prediga el número de paletas disponibles `num_pal_disponibles`, usando como variables predictoras el número de paletas retiradas `num_pal_retiradas` y el número de paletas surtidas `num_pal_surtidas` y (ii) un árbol de decisión que clasifique si la predicción es $0$ o $1$, donde \n",
        "\n",
        "$0$: la predicción es mayor o igual que el umbral de disponibilidad promedio de paletas y por tanto no se surtirá y\n",
        "\n",
        "$1$: la predicción es menor que el umbral de disponibilidad promedio de paletas y por tanto se surtirá.\n",
        "\n",
        "\n",
        "\n",
        "**3.** Hacer pronóstico con el histórico de datos para la demanda de paletas, por ejemplo un modelo SARIMA, y de acuerdo con el resultado en **2** surtir o no la cantidad pronósticada.\n",
        "\n",
        "\n"
      ],
      "metadata": {
        "id": "oo3-yiT-MFJL"
      }
    }
  ]
}